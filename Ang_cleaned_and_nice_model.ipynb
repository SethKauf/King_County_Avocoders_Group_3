{
 "cells": [
  {
   "cell_type": "code",
   "execution_count": 1,
   "metadata": {},
   "outputs": [],
   "source": [
    "import pandas as pd\n",
    "import seaborn as sns\n",
    "import numpy as np\n",
    "import matplotlib.pyplot as plt\n",
    "%matplotlib inline\n",
    "from sklearn.model_selection import train_test_split\n",
    "from pandas.api.types import CategoricalDtype\n",
    "from sklearn.preprocessing import StandardScaler\n",
    "from sklearn.linear_model import LinearRegression\n"
   ]
  },
  {
   "cell_type": "code",
   "execution_count": 2,
   "metadata": {},
   "outputs": [],
   "source": [
    "dataset = pd.read_csv('kc_house_data.csv')"
   ]
  },
  {
   "cell_type": "code",
   "execution_count": 3,
   "metadata": {},
   "outputs": [],
   "source": [
    "dataset['waterfront'] = dataset['waterfront'].fillna(0)"
   ]
  },
  {
   "cell_type": "code",
   "execution_count": 4,
   "metadata": {},
   "outputs": [],
   "source": [
    "dataset['date'] = pd.to_datetime(dataset['date'])"
   ]
  },
  {
   "cell_type": "code",
   "execution_count": 5,
   "metadata": {},
   "outputs": [],
   "source": [
    "dataset.dropna(subset = ['view'], inplace = True)"
   ]
  },
  {
   "cell_type": "code",
   "execution_count": 6,
   "metadata": {},
   "outputs": [],
   "source": [
    "dataset.yr_renovated.fillna(dataset.yr_built, inplace=True)"
   ]
  },
  {
   "cell_type": "code",
   "execution_count": 7,
   "metadata": {},
   "outputs": [],
   "source": [
    "dataset['zipcode'] = dataset['zipcode'].apply(str)"
   ]
  },
  {
   "cell_type": "code",
   "execution_count": 36,
   "metadata": {},
   "outputs": [],
   "source": [
    "dataset['sqft_basement'] = dataset['sqft_basement'].replace('?', np.nan) ##move to impute .tonumeric()"
   ]
  },
  {
   "cell_type": "code",
   "execution_count": null,
   "metadata": {},
   "outputs": [],
   "source": []
  },
  {
   "cell_type": "code",
   "execution_count": 9,
   "metadata": {},
   "outputs": [],
   "source": [
    "cols_to_exclude = ['floors', 'waterfront', 'bedrooms', 'bathrooms', 'condition', 'grade', 'yr_built', 'yr_renovated', 'view']\n",
    "for col in cols_to_exclude:\n",
    "        dataset[col] = dataset[col].astype('category') ##don't do this. We need these to be numeric for one hot encoder"
   ]
  },
  {
   "cell_type": "code",
   "execution_count": 10,
   "metadata": {},
   "outputs": [],
   "source": [
    "#dataset['floors'] = dataset['floors'].apply('str')"
   ]
  },
  {
   "cell_type": "code",
   "execution_count": 11,
   "metadata": {},
   "outputs": [],
   "source": [
    "#dataset['waterfront'] = dataset['waterfront'].apply('str')"
   ]
  },
  {
   "cell_type": "code",
   "execution_count": 12,
   "metadata": {},
   "outputs": [],
   "source": [
    "#dataset['bedrooms'] = dataset['bedrooms'].apply('str')"
   ]
  },
  {
   "cell_type": "code",
   "execution_count": 13,
   "metadata": {},
   "outputs": [],
   "source": [
    "#dataset['bathrooms'] = dataset['bathrooms'].apply('str')"
   ]
  },
  {
   "cell_type": "code",
   "execution_count": 14,
   "metadata": {},
   "outputs": [],
   "source": [
    "#dataset['condition'] = dataset['condition'].apply('str')"
   ]
  },
  {
   "cell_type": "code",
   "execution_count": 15,
   "metadata": {},
   "outputs": [],
   "source": [
    "#dataset['grade'] = dataset['grade'].apply('str')"
   ]
  },
  {
   "cell_type": "code",
   "execution_count": 16,
   "metadata": {},
   "outputs": [],
   "source": [
    "#dataset['yr_built'] = dataset['yr_built'].apply('str')"
   ]
  },
  {
   "cell_type": "code",
   "execution_count": 17,
   "metadata": {},
   "outputs": [],
   "source": [
    "dataset['sqft_basement'] = dataset['sqft_basement'].astype(float) #"
   ]
  },
  {
   "cell_type": "code",
   "execution_count": 18,
   "metadata": {},
   "outputs": [],
   "source": [
    "dataset['sqft_basement'] = dataset['sqft_basement'].fillna(0)"
   ]
  },
  {
   "cell_type": "code",
   "execution_count": 19,
   "metadata": {},
   "outputs": [
    {
     "name": "stdout",
     "output_type": "stream",
     "text": [
      "<class 'pandas.core.frame.DataFrame'>\n",
      "Int64Index: 21534 entries, 0 to 21596\n",
      "Data columns (total 21 columns):\n",
      " #   Column         Non-Null Count  Dtype         \n",
      "---  ------         --------------  -----         \n",
      " 0   id             21534 non-null  int64         \n",
      " 1   date           21534 non-null  datetime64[ns]\n",
      " 2   price          21534 non-null  float64       \n",
      " 3   bedrooms       21534 non-null  category      \n",
      " 4   bathrooms      21534 non-null  category      \n",
      " 5   sqft_living    21534 non-null  int64         \n",
      " 6   sqft_lot       21534 non-null  int64         \n",
      " 7   floors         21534 non-null  category      \n",
      " 8   waterfront     21534 non-null  category      \n",
      " 9   view           21534 non-null  category      \n",
      " 10  condition      21534 non-null  category      \n",
      " 11  grade          21534 non-null  category      \n",
      " 12  sqft_above     21534 non-null  int64         \n",
      " 13  sqft_basement  21534 non-null  float64       \n",
      " 14  yr_built       21534 non-null  category      \n",
      " 15  yr_renovated   21534 non-null  category      \n",
      " 16  zipcode        21534 non-null  object        \n",
      " 17  lat            21534 non-null  float64       \n",
      " 18  long           21534 non-null  float64       \n",
      " 19  sqft_living15  21534 non-null  int64         \n",
      " 20  sqft_lot15     21534 non-null  int64         \n",
      "dtypes: category(9), datetime64[ns](1), float64(4), int64(6), object(1)\n",
      "memory usage: 2.3+ MB\n"
     ]
    }
   ],
   "source": [
    "dataset.info()"
   ]
  },
  {
   "cell_type": "code",
   "execution_count": 20,
   "metadata": {},
   "outputs": [],
   "source": [
    "X = dataset.drop('price', axis = 1).select_dtypes(exclude = ['object', 'category'])\n",
    "y = dataset['price']"
   ]
  },
  {
   "cell_type": "code",
   "execution_count": 21,
   "metadata": {},
   "outputs": [],
   "source": [
    "X_train, X_test, y_train, y_test = train_test_split(X, y, test_size = 0.2, random_state = 42)"
   ]
  },
  {
   "cell_type": "code",
   "execution_count": 22,
   "metadata": {},
   "outputs": [
    {
     "data": {
      "text/plain": [
       "(17227, 4307, 17227, 4307)"
      ]
     },
     "execution_count": 22,
     "metadata": {},
     "output_type": "execute_result"
    }
   ],
   "source": [
    "len(X_train), len(X_test), len(y_train), len(y_test)"
   ]
  },
  {
   "cell_type": "code",
   "execution_count": 23,
   "metadata": {},
   "outputs": [
    {
     "data": {
      "text/html": [
       "<div>\n",
       "<style scoped>\n",
       "    .dataframe tbody tr th:only-of-type {\n",
       "        vertical-align: middle;\n",
       "    }\n",
       "\n",
       "    .dataframe tbody tr th {\n",
       "        vertical-align: top;\n",
       "    }\n",
       "\n",
       "    .dataframe thead th {\n",
       "        text-align: right;\n",
       "    }\n",
       "</style>\n",
       "<table border=\"1\" class=\"dataframe\">\n",
       "  <thead>\n",
       "    <tr style=\"text-align: right;\">\n",
       "      <th></th>\n",
       "      <th>id</th>\n",
       "      <th>date</th>\n",
       "      <th>sqft_living</th>\n",
       "      <th>sqft_lot</th>\n",
       "      <th>sqft_above</th>\n",
       "      <th>sqft_basement</th>\n",
       "      <th>lat</th>\n",
       "      <th>long</th>\n",
       "      <th>sqft_living15</th>\n",
       "      <th>sqft_lot15</th>\n",
       "    </tr>\n",
       "  </thead>\n",
       "  <tbody>\n",
       "    <tr>\n",
       "      <th>15714</th>\n",
       "      <td>2450000275</td>\n",
       "      <td>2014-07-16</td>\n",
       "      <td>1350</td>\n",
       "      <td>8113</td>\n",
       "      <td>1350</td>\n",
       "      <td>0.0</td>\n",
       "      <td>47.5807</td>\n",
       "      <td>-122.196</td>\n",
       "      <td>1930</td>\n",
       "      <td>8113</td>\n",
       "    </tr>\n",
       "    <tr>\n",
       "      <th>10920</th>\n",
       "      <td>1574700140</td>\n",
       "      <td>2014-08-08</td>\n",
       "      <td>1830</td>\n",
       "      <td>9720</td>\n",
       "      <td>1150</td>\n",
       "      <td>680.0</td>\n",
       "      <td>47.5511</td>\n",
       "      <td>-122.230</td>\n",
       "      <td>3380</td>\n",
       "      <td>10854</td>\n",
       "    </tr>\n",
       "    <tr>\n",
       "      <th>2782</th>\n",
       "      <td>3601200465</td>\n",
       "      <td>2015-01-23</td>\n",
       "      <td>3527</td>\n",
       "      <td>7200</td>\n",
       "      <td>3527</td>\n",
       "      <td>0.0</td>\n",
       "      <td>47.3823</td>\n",
       "      <td>-122.300</td>\n",
       "      <td>2490</td>\n",
       "      <td>7200</td>\n",
       "    </tr>\n",
       "    <tr>\n",
       "      <th>14991</th>\n",
       "      <td>5437400630</td>\n",
       "      <td>2014-10-16</td>\n",
       "      <td>1920</td>\n",
       "      <td>8259</td>\n",
       "      <td>1920</td>\n",
       "      <td>0.0</td>\n",
       "      <td>47.5616</td>\n",
       "      <td>-122.088</td>\n",
       "      <td>2030</td>\n",
       "      <td>8910</td>\n",
       "    </tr>\n",
       "    <tr>\n",
       "      <th>19542</th>\n",
       "      <td>6169901095</td>\n",
       "      <td>2014-08-15</td>\n",
       "      <td>1980</td>\n",
       "      <td>7200</td>\n",
       "      <td>1700</td>\n",
       "      <td>280.0</td>\n",
       "      <td>47.6318</td>\n",
       "      <td>-122.369</td>\n",
       "      <td>2490</td>\n",
       "      <td>4200</td>\n",
       "    </tr>\n",
       "  </tbody>\n",
       "</table>\n",
       "</div>"
      ],
      "text/plain": [
       "               id       date  sqft_living  sqft_lot  sqft_above  \\\n",
       "15714  2450000275 2014-07-16         1350      8113        1350   \n",
       "10920  1574700140 2014-08-08         1830      9720        1150   \n",
       "2782   3601200465 2015-01-23         3527      7200        3527   \n",
       "14991  5437400630 2014-10-16         1920      8259        1920   \n",
       "19542  6169901095 2014-08-15         1980      7200        1700   \n",
       "\n",
       "       sqft_basement      lat     long  sqft_living15  sqft_lot15  \n",
       "15714            0.0  47.5807 -122.196           1930        8113  \n",
       "10920          680.0  47.5511 -122.230           3380       10854  \n",
       "2782             0.0  47.3823 -122.300           2490        7200  \n",
       "14991            0.0  47.5616 -122.088           2030        8910  \n",
       "19542          280.0  47.6318 -122.369           2490        4200  "
      ]
     },
     "execution_count": 23,
     "metadata": {},
     "output_type": "execute_result"
    }
   ],
   "source": [
    "X_train.head()"
   ]
  },
  {
   "cell_type": "code",
   "execution_count": 24,
   "metadata": {},
   "outputs": [],
   "source": [
    "heatmap_data = pd.concat([y_train, X_train], axis = 1)\n",
    "corr = heatmap_data.corr()"
   ]
  },
  {
   "cell_type": "code",
   "execution_count": 35,
   "metadata": {},
   "outputs": [
    {
     "data": {
      "image/png": "[encoded data removed]",
      "text/plain": [
       "<Figure size 720x864 with 2 Axes>"
      ]
     },
     "metadata": {
      "needs_background": "light"
     },
     "output_type": "display_data"
    }
   ],
   "source": [
    "fig, ax = plt.subplots(figsize = (10, 12))\n",
    "\n",
    "sns.heatmap(\n",
    "    data=corr,\n",
    "    mask=np.triu(np.ones_like(corr, dtype=bool)),\n",
    "    ax=ax,\n",
    "    annot=True,\n",
    "    cbar_kws={\"label\": \"Correlation\", \"orientation\": \"horizontal\", \"pad\": .2, \"extend\": \"both\"}\n",
    ")\n",
    "\n",
    "ax.set_title('Heatmap of Correlation between Attributes and including Target');"
   ]
  },
  {
   "cell_type": "code",
   "execution_count": 26,
   "metadata": {},
   "outputs": [],
   "source": [
    "most_correlated_feature = 'sqft_living'"
   ]
  },
  {
   "cell_type": "code",
   "execution_count": 27,
   "metadata": {},
   "outputs": [
    {
     "data": {
      "text/plain": [
       "Text(0.5, 1.0, 'Most Correlated Feature vs. Price')"
      ]
     },
     "execution_count": 27,
     "metadata": {},
     "output_type": "execute_result"
    },
    {
     "data": {
      "image/png": "[encoded data removed]",
      "text/plain": [
       "<Figure size 432x288 with 1 Axes>"
      ]
     },
     "metadata": {
      "needs_background": "light"
     },
     "output_type": "display_data"
    }
   ],
   "source": [
    "fig, ax = plt.subplots()\n",
    "\n",
    "ax.scatter(X_train[most_correlated_feature], y_train)\n",
    "ax.set_xlabel(most_correlated_feature)\n",
    "ax.set_ylabel('Price')\n",
    "ax.set_title('Most Correlated Feature vs. Price')"
   ]
  },
  {
   "cell_type": "code",
   "execution_count": 31,
   "metadata": {},
   "outputs": [
    {
     "data": {
      "text/html": [
       "<div>\n",
       "<style scoped>\n",
       "    .dataframe tbody tr th:only-of-type {\n",
       "        vertical-align: middle;\n",
       "    }\n",
       "\n",
       "    .dataframe tbody tr th {\n",
       "        vertical-align: top;\n",
       "    }\n",
       "\n",
       "    .dataframe thead th {\n",
       "        text-align: right;\n",
       "    }\n",
       "</style>\n",
       "<table border=\"1\" class=\"dataframe\">\n",
       "  <thead>\n",
       "    <tr style=\"text-align: right;\">\n",
       "      <th></th>\n",
       "      <th>sqft_living</th>\n",
       "      <th>sqft_lot</th>\n",
       "      <th>sqft_above</th>\n",
       "      <th>sqft_basement</th>\n",
       "      <th>lat</th>\n",
       "      <th>long</th>\n",
       "      <th>sqft_living15</th>\n",
       "      <th>sqft_lot15</th>\n",
       "    </tr>\n",
       "  </thead>\n",
       "  <tbody>\n",
       "    <tr>\n",
       "      <th>19009</th>\n",
       "      <td>3100</td>\n",
       "      <td>8000</td>\n",
       "      <td>2040</td>\n",
       "      <td>1060.0</td>\n",
       "      <td>47.6852</td>\n",
       "      <td>-122.329</td>\n",
       "      <td>1650</td>\n",
       "      <td>4000</td>\n",
       "    </tr>\n",
       "    <tr>\n",
       "      <th>6370</th>\n",
       "      <td>3610</td>\n",
       "      <td>12811</td>\n",
       "      <td>3610</td>\n",
       "      <td>0.0</td>\n",
       "      <td>47.5812</td>\n",
       "      <td>-121.993</td>\n",
       "      <td>3530</td>\n",
       "      <td>11783</td>\n",
       "    </tr>\n",
       "    <tr>\n",
       "      <th>13983</th>\n",
       "      <td>1070</td>\n",
       "      <td>4200</td>\n",
       "      <td>1070</td>\n",
       "      <td>0.0</td>\n",
       "      <td>47.3336</td>\n",
       "      <td>-122.215</td>\n",
       "      <td>1150</td>\n",
       "      <td>4200</td>\n",
       "    </tr>\n",
       "    <tr>\n",
       "      <th>7837</th>\n",
       "      <td>4010</td>\n",
       "      <td>16200</td>\n",
       "      <td>2090</td>\n",
       "      <td>1920.0</td>\n",
       "      <td>47.6322</td>\n",
       "      <td>-122.216</td>\n",
       "      <td>3560</td>\n",
       "      <td>16200</td>\n",
       "    </tr>\n",
       "    <tr>\n",
       "      <th>9491</th>\n",
       "      <td>1930</td>\n",
       "      <td>7925</td>\n",
       "      <td>1300</td>\n",
       "      <td>630.0</td>\n",
       "      <td>47.7626</td>\n",
       "      <td>-122.312</td>\n",
       "      <td>1930</td>\n",
       "      <td>7200</td>\n",
       "    </tr>\n",
       "    <tr>\n",
       "      <th>...</th>\n",
       "      <td>...</td>\n",
       "      <td>...</td>\n",
       "      <td>...</td>\n",
       "      <td>...</td>\n",
       "      <td>...</td>\n",
       "      <td>...</td>\n",
       "      <td>...</td>\n",
       "      <td>...</td>\n",
       "    </tr>\n",
       "    <tr>\n",
       "      <th>5005</th>\n",
       "      <td>620</td>\n",
       "      <td>4455</td>\n",
       "      <td>620</td>\n",
       "      <td>0.0</td>\n",
       "      <td>47.6877</td>\n",
       "      <td>-122.395</td>\n",
       "      <td>1180</td>\n",
       "      <td>5000</td>\n",
       "    </tr>\n",
       "    <tr>\n",
       "      <th>14640</th>\n",
       "      <td>2300</td>\n",
       "      <td>28480</td>\n",
       "      <td>2300</td>\n",
       "      <td>0.0</td>\n",
       "      <td>47.6403</td>\n",
       "      <td>-121.964</td>\n",
       "      <td>1880</td>\n",
       "      <td>26720</td>\n",
       "    </tr>\n",
       "    <tr>\n",
       "      <th>19802</th>\n",
       "      <td>2710</td>\n",
       "      <td>4500</td>\n",
       "      <td>2710</td>\n",
       "      <td>0.0</td>\n",
       "      <td>47.3547</td>\n",
       "      <td>-122.062</td>\n",
       "      <td>2710</td>\n",
       "      <td>4626</td>\n",
       "    </tr>\n",
       "    <tr>\n",
       "      <th>1012</th>\n",
       "      <td>1780</td>\n",
       "      <td>7260</td>\n",
       "      <td>1780</td>\n",
       "      <td>0.0</td>\n",
       "      <td>47.6270</td>\n",
       "      <td>-122.114</td>\n",
       "      <td>1810</td>\n",
       "      <td>7920</td>\n",
       "    </tr>\n",
       "    <tr>\n",
       "      <th>13637</th>\n",
       "      <td>2140</td>\n",
       "      <td>4959</td>\n",
       "      <td>1080</td>\n",
       "      <td>1060.0</td>\n",
       "      <td>47.5166</td>\n",
       "      <td>-122.266</td>\n",
       "      <td>1590</td>\n",
       "      <td>5250</td>\n",
       "    </tr>\n",
       "  </tbody>\n",
       "</table>\n",
       "<p>4307 rows × 8 columns</p>\n",
       "</div>"
      ],
      "text/plain": [
       "       sqft_living  sqft_lot  sqft_above  sqft_basement      lat     long  \\\n",
       "19009         3100      8000        2040         1060.0  47.6852 -122.329   \n",
       "6370          3610     12811        3610            0.0  47.5812 -121.993   \n",
       "13983         1070      4200        1070            0.0  47.3336 -122.215   \n",
       "7837          4010     16200        2090         1920.0  47.6322 -122.216   \n",
       "9491          1930      7925        1300          630.0  47.7626 -122.312   \n",
       "...            ...       ...         ...            ...      ...      ...   \n",
       "5005           620      4455         620            0.0  47.6877 -122.395   \n",
       "14640         2300     28480        2300            0.0  47.6403 -121.964   \n",
       "19802         2710      4500        2710            0.0  47.3547 -122.062   \n",
       "1012          1780      7260        1780            0.0  47.6270 -122.114   \n",
       "13637         2140      4959        1080         1060.0  47.5166 -122.266   \n",
       "\n",
       "       sqft_living15  sqft_lot15  \n",
       "19009           1650        4000  \n",
       "6370            3530       11783  \n",
       "13983           1150        4200  \n",
       "7837            3560       16200  \n",
       "9491            1930        7200  \n",
       "...              ...         ...  \n",
       "5005            1180        5000  \n",
       "14640           1880       26720  \n",
       "19802           2710        4626  \n",
       "1012            1810        7920  \n",
       "13637           1590        5250  \n",
       "\n",
       "[4307 rows x 8 columns]"
      ]
     },
     "execution_count": 31,
     "metadata": {},
     "output_type": "execute_result"
    }
   ],
   "source": [
    "X_test = X_test.drop(['date', 'id'], axis = 1)\n",
    "X_train = X_train.drop(['date', 'id'], axis = 1)\n",
    "X_test"
   ]
  },
  {
   "cell_type": "code",
   "execution_count": 32,
   "metadata": {},
   "outputs": [
    {
     "data": {
      "text/plain": [
       "(array([161326.93849822,  11083.73768544,  46806.62515615,  17807.30302357,\n",
       "         93044.72234111, -55171.35172392,  65830.73223546,  -7695.13101676]),\n",
       " 538633.7840599052,\n",
       " 0.5883629037934943,\n",
       " 0.6028156025670933)"
      ]
     },
     "execution_count": 32,
     "metadata": {},
     "output_type": "execute_result"
    }
   ],
   "source": [
    "Scaler = StandardScaler()\n",
    "X_train = Scaler.fit_transform(X_train)\n",
    "X_test = Scaler.transform(X_test)\n",
    "\n",
    "baseline_model = LinearRegression()\n",
    "baseline_model.fit(X_train, y_train)\n",
    "\n",
    "y_pred = baseline_model.predict(X_test)\n",
    "baseline_model.coef_, baseline_model.intercept_, baseline_model.score(X_train, y_train), baseline_model.score(X_test, y_test)\n"
   ]
  },
  {
   "cell_type": "code",
   "execution_count": 154,
   "metadata": {},
   "outputs": [
    {
     "name": "stderr",
     "output_type": "stream",
     "text": [
      "<ipython-input-154-b2182b9e3b36>:7: FutureWarning: Using a non-tuple sequence for multidimensional indexing is deprecated; use `arr[tuple(seq)]` instead of `arr[seq]`. In the future this will be interpreted as an array index, `arr[np.array(seq)]`, which will result either in an error or a different result.\n",
      "  X = X_train[[most_correlated_feature]],\n"
     ]
    },
    {
     "ename": "IndexError",
     "evalue": "only integers, slices (`:`), ellipsis (`...`), numpy.newaxis (`None`) and integer or boolean arrays are valid indices",
     "output_type": "error",
     "traceback": [
      "\u001b[1;31m---------------------------------------------------------------------------\u001b[0m",
      "\u001b[1;31mIndexError\u001b[0m                                Traceback (most recent call last)",
      "\u001b[1;32m<ipython-input-154-b2182b9e3b36>\u001b[0m in \u001b[0;36m<module>\u001b[1;34m\u001b[0m\n\u001b[0;32m      5\u001b[0m baseline_scores = cross_validate(\n\u001b[0;32m      6\u001b[0m         \u001b[0mestimator\u001b[0m \u001b[1;33m=\u001b[0m \u001b[0mbaseline_model\u001b[0m\u001b[1;33m,\u001b[0m\u001b[1;33m\u001b[0m\u001b[1;33m\u001b[0m\u001b[0m\n\u001b[1;32m----> 7\u001b[1;33m         \u001b[0mX\u001b[0m \u001b[1;33m=\u001b[0m \u001b[0mX_train\u001b[0m\u001b[1;33m[\u001b[0m\u001b[1;33m[\u001b[0m\u001b[0mmost_correlated_feature\u001b[0m\u001b[1;33m]\u001b[0m\u001b[1;33m]\u001b[0m\u001b[1;33m,\u001b[0m\u001b[1;33m\u001b[0m\u001b[1;33m\u001b[0m\u001b[0m\n\u001b[0m\u001b[0;32m      8\u001b[0m         \u001b[0my\u001b[0m \u001b[1;33m=\u001b[0m \u001b[0my_train\u001b[0m\u001b[1;33m,\u001b[0m\u001b[1;33m\u001b[0m\u001b[1;33m\u001b[0m\u001b[0m\n\u001b[0;32m      9\u001b[0m         \u001b[0mreturn_train_score\u001b[0m \u001b[1;33m=\u001b[0m \u001b[1;32mTrue\u001b[0m\u001b[1;33m,\u001b[0m\u001b[1;33m\u001b[0m\u001b[1;33m\u001b[0m\u001b[0m\n",
      "\u001b[1;31mIndexError\u001b[0m: only integers, slices (`:`), ellipsis (`...`), numpy.newaxis (`None`) and integer or boolean arrays are valid indices"
     ]
    }
   ],
   "source": [
    "from sklearn.model_selection import cross_validate, ShuffleSplit\n",
    "\n",
    "splitter = ShuffleSplit(n_splits = 3, test_size = 0.25, random_state = 0)\n",
    "\n",
    "baseline_scores = cross_validate(\n",
    "        estimator = baseline_model,\n",
    "        X = X_train[[most_correlated_feature]],\n",
    "        y = y_train,\n",
    "        return_train_score = True,\n",
    "        cv = splitter\n",
    ")\n",
    "print('Train score:   ', baseline_scores['train_score'].mean())\n",
    "print('Validation score:', baseline_scores['test_score'].mean())"
   ]
  },
  {
   "cell_type": "code",
   "execution_count": null,
   "metadata": {},
   "outputs": [],
   "source": [
    "scatterplot_data = X_train\n",
    "\n",
    "fig, axes = plt.subplots(ncols=3, nrows=2, figsize=(12, 8))\n",
    "fig.set_tight_layout(True)\n",
    "\n",
    "for index, col in enumerate(scatterplot_data.columns):\n",
    "    ax = axes[index//3][index%3]\n",
    "    ax.scatter(X_train[col], y_train, alpha=0.1)\n",
    "    ax.set_xlabel(col)\n",
    "    ax.set_ylabel(\"listing price\")"
   ]
  },
  {
   "cell_type": "code",
   "execution_count": null,
   "metadata": {},
   "outputs": [],
   "source": [
    "from sklearn.model_selection import cross_validate, ShuffleSplit\n",
    "\n",
    "splitter = ShuffleSplit(n_splits=3, test_size=0.25, random_state=0)\n",
    "\n",
    "baseline_scores = cross_validate(\n",
    "    estimator=baseline_model,\n",
    "    X=X_train[[most_correlated_feature]],\n",
    "    y=y_train,\n",
    "    return_train_score=True,\n",
    "    cv=splitter\n",
    ")\n",
    "\n",
    "print(\"Train score:     \", baseline_scores[\"train_score\"].mean())\n",
    "print(\"Validation score:\", baseline_scores[\"test_score\"].mean())"
   ]
  },
  {
   "cell_type": "code",
   "execution_count": null,
   "metadata": {},
   "outputs": [],
   "source": []
  },
  {
   "cell_type": "code",
   "execution_count": null,
   "metadata": {},
   "outputs": [],
   "source": []
  }
 ],
 "metadata": {
  "kernelspec": {
   "display_name": "Python (learn-env)",
   "language": "python",
   "name": "learn-env"
  },
  "language_info": {
   "codemirror_mode": {
    "name": "ipython",
    "version": 3
   },
   "file_extension": ".py",
   "mimetype": "text/x-python",
   "name": "python",
   "nbconvert_exporter": "python",
   "pygments_lexer": "ipython3",
   "version": "3.8.5"
  }
 },
 "nbformat": 4,
 "nbformat_minor": 4
}
